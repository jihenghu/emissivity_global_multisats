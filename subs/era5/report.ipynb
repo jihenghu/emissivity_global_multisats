{
 "cells": [
  {
   "cell_type": "code",
   "execution_count": null,
   "metadata": {},
   "outputs": [],
   "source": [
    "....\n",
    "yyyymmdd='20180102'\n",
    "UTC='02'\n",
    "c = cdsapi.Client()\n",
    "c.retrieve(\n",
    "    'reanalysis-era5-pressure-levels',\n",
    "    {\n",
    "        'product_type': 'reanalysis',\n",
    "        'format': 'netcdf',\n",
    "        'variable': [\n",
    "            'specific_humidity', 'temperature',\n",
    "        ],\n",
    "        'pressure_level': [\n",
    "            '50',\n",
    "            '70', '100', '125',\n",
    "            '150', '175', '200',\n",
    "            '225', '250', '300',\n",
    "            '350', '400', '450',\n",
    "            '500', '550', '600',\n",
    "            '650', '700', '750',\n",
    "            '775', '800', '825',\n",
    "            '850', '875', '900',\n",
    "            '925', '950', '975',\n",
    "            '1000',\n",
    "        ],\n",
    "        'year': yyyymmdd[0:4],\n",
    "        'month': yyyymmdd[4:6],\n",
    "        'day': yyyymmdd[6:8],\n",
    "        'time': UTC+':00',\n",
    "        'area': [70, -180, -70, 180,],\n",
    "        # 'area': [30, 120, 20, 130,],\n",
    "        'grid': ['0.25','0.25']\n",
    "    },\n",
    "    CDIR+\"/\"+yyyymmdd+'/ERA5-PL-GBL-25km-'+yyyymmdd+'-'+UTC+'00.nc')"
   ]
  },
  {
   "cell_type": "markdown",
   "metadata": {},
   "source": [
    "I am here to report a netcdf-related issue with CSD API: \n",
    "When I downloaded ERA5 hourly pressure levels data using the CDS API , I found the desired varible \"specific_humidity\" in the retrieved NC file seems to be values of temperature which is another varible I ordered together. I tried to order this data via the browser,  it turned out to be normal. SO it seems the CDS API has mixed varibles when  converting Grib to Netcdf.  This may only happen in CDS API.  The datas I found massively errorly retrieved  are between 20180102 to 20180125, hourly, specific_humidity. Here is my script. Looking forward to your concern.\n"
   ]
  }
 ],
 "metadata": {
  "language_info": {
   "name": "python"
  }
 },
 "nbformat": 4,
 "nbformat_minor": 2
}
